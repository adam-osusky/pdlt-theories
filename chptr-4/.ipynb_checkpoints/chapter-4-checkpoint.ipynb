{
 "cells": [
  {
   "cell_type": "markdown",
   "id": "68d0b612-05c8-4ffd-9cf3-32e6e562692c",
   "metadata": {},
   "source": [
    "# RG Flow of Preactivations\n",
    "\n",
    "In this notebook we will test the Effective Theory from the fourth chapter of the book. More specifically we will look at the distribution of preactivations in the first layer, second layer and some last layer.\n",
    "\n",
    "It is highly recommended to read the book or at least the third chapter."
   ]
  },
  {
   "cell_type": "code",
   "execution_count": null,
   "id": "80ee3e9d-8dbf-45d4-844a-c90e343ace03",
   "metadata": {},
   "outputs": [],
   "source": [
    "import pandas as pd\n",
    "from sklearn.model_selection import train_test_split\n",
    "import math\n",
    "\n",
    "import torch\n",
    "import torch.nn as nn\n",
    "import torchvision\n",
    "from torchvision import transforms\n",
    "from torch.utils.data import Dataset, DataLoader\n",
    "\n",
    "import pingouin as pg\n",
    "\n",
    "import numpy as np\n",
    "from mpl_toolkits.mplot3d import Axes3D\n",
    "import matplotlib.pyplot as plt\n",
    "import random\n",
    "random.seed(69)\n",
    "random.seed(69)\n",
    "torch.manual_seed(69)"
   ]
  },
  {
   "cell_type": "markdown",
   "id": "669d642d-83af-4eb6-b1e1-aa946dda49b3",
   "metadata": {},
   "source": [
    "## First layer - Gaussian\n",
    "\n",
    "The distribution of preactivations in the first layer should be Gaussian. Lets check it out."
   ]
  },
  {
   "cell_type": "code",
   "execution_count": 31,
   "id": "bdfcdfce-4099-4d44-814c-9c6c5c16426a",
   "metadata": {},
   "outputs": [],
   "source": [
    "a = 256\n",
    "n = a\n",
    "L = 3\n",
    "inp_shape = a\n",
    "out_shape = a"
   ]
  },
  {
   "cell_type": "code",
   "execution_count": 32,
   "id": "3222b106-c9a4-40be-98da-792343cdf459",
   "metadata": {},
   "outputs": [
    {
     "data": {
      "text/plain": [
       "0.01171875"
      ]
     },
     "execution_count": 32,
     "metadata": {},
     "output_type": "execute_result"
    }
   ],
   "source": [
    "L/n"
   ]
  },
  {
   "cell_type": "code",
   "execution_count": 33,
   "id": "d3178531-141c-48cd-ba5b-4a7d8be89a5a",
   "metadata": {},
   "outputs": [],
   "source": [
    "def try_gpu(i=0):\n",
    "    if torch.cuda.device_count() >= i + 1:\n",
    "        return torch.device(f'cuda:{i}')\n",
    "    return torch.device('cpu')\n",
    "device = try_gpu()"
   ]
  },
  {
   "cell_type": "code",
   "execution_count": 34,
   "id": "d4c9373e-9d2c-426d-bc76-7a656555f511",
   "metadata": {},
   "outputs": [
    {
     "data": {
      "text/plain": [
       "device(type='cuda', index=0)"
      ]
     },
     "execution_count": 34,
     "metadata": {},
     "output_type": "execute_result"
    }
   ],
   "source": [
    "device"
   ]
  },
  {
   "cell_type": "code",
   "execution_count": 35,
   "id": "1988a379-fc71-49dc-924d-abf98d982815",
   "metadata": {},
   "outputs": [],
   "source": [
    "def count_para(nets):\n",
    "    c = 0\n",
    "    for net in nets:\n",
    "        c += sum([p.numel() for p in net.parameters() if p.requires_grad])\n",
    "    return c"
   ]
  },
  {
   "cell_type": "code",
   "execution_count": 36,
   "id": "448862e3-23af-4119-905e-107f229d1777",
   "metadata": {},
   "outputs": [],
   "source": [
    "def initialization(t):\n",
    "    with torch.no_grad():\n",
    "        if isinstance(t, nn.Linear):\n",
    "            t.weight = nn.init.normal_(t.weight, mean=0.0, std=2.00**0.5)\n",
    "            if t.bias is not None:\n",
    "                nn.init.constant_(t.bias.data, 0)"
   ]
  },
  {
   "cell_type": "code",
   "execution_count": 37,
   "id": "acd1a910-c4c5-49b6-aef6-1e6bf8ae4cde",
   "metadata": {},
   "outputs": [],
   "source": [
    "def create_first_layer(inp_shape, n):\n",
    "    net = nn.Sequential(nn.Linear(inp_shape, n))\n",
    "    net.apply(initialization)\n",
    "    net = net.eval()\n",
    "    return net\n",
    "\n",
    "def create_mid_layer(n):\n",
    "    net = nn.Sequential(nn.ReLU(), nn.Linear(n, n))\n",
    "    net.apply(initialization)\n",
    "    net = net.eval()\n",
    "    return net\n",
    "\n",
    "def create_mid_layers(n, l):\n",
    "    blks = []\n",
    "    for _ in range(l):\n",
    "        blks.append(nn.Sequential(nn.ReLU(), nn.Linear(n, n)))\n",
    "    net = nn.Sequential(*blks)\n",
    "    net.apply(initialization)\n",
    "    net = net.eval()\n",
    "    return net\n",
    "\n",
    "def create_top_layer(out_shape, l):\n",
    "    net = nn.Sequential(nn.Linear(n, out_shape), nn.ReLU())\n",
    "    net.apply(initialization)\n",
    "    net = net.eval()\n",
    "    return net"
   ]
  },
  {
   "cell_type": "code",
   "execution_count": 38,
   "id": "21a2a31a-0df2-417d-9e97-d0d6ff5a0c74",
   "metadata": {},
   "outputs": [],
   "source": [
    "def create_layers(n, l, inp_shape=n, out_shape=n):\n",
    "    f_l = create_first_layer(inp_shape,n)\n",
    "    s_l = create_mid_layer(n)\n",
    "    mid = create_mid_layers(n, (l-3)//2)\n",
    "    top = create_mid_layers(n, (l-3) - (l-3)//2)\n",
    "    top = nn.Sequential(top, nn.ReLU(), nn.Linear(n, out_shape))\n",
    "    return f_l, s_l, mid, top"
   ]
  },
  {
   "cell_type": "code",
   "execution_count": 39,
   "id": "01d82756-45a9-4bc2-a491-51a9a5d5095f",
   "metadata": {},
   "outputs": [
    {
     "data": {
      "text/plain": [
       "197376"
      ]
     },
     "execution_count": 39,
     "metadata": {},
     "output_type": "execute_result"
    }
   ],
   "source": [
    "net = create_layers(n,L) #(f_l, s_l, mid, m_l, top)\n",
    "count_para(net)"
   ]
  },
  {
   "cell_type": "code",
   "execution_count": 40,
   "id": "7ee37305-c1b1-4e6a-ab1b-c61d904d6c38",
   "metadata": {},
   "outputs": [
    {
     "data": {
      "text/plain": [
       "torch.Size([1, 256])"
      ]
     },
     "execution_count": 40,
     "metadata": {},
     "output_type": "execute_result"
    }
   ],
   "source": [
    "x = torch.rand((1, inp_shape), dtype=torch.float)\n",
    "x = (x - x.mean(dim=1))/x.std(dim=1)\n",
    "x = x.to(device)\n",
    "x.shape"
   ]
  },
  {
   "cell_type": "code",
   "execution_count": 41,
   "id": "e09f5b0f-38a5-49c8-b3e7-0487c3668f31",
   "metadata": {},
   "outputs": [],
   "source": [
    "f_l_zs = torch.tensor([]).to(device)\n",
    "s_l_zs = torch.tensor([]).to(device)\n",
    "mid_zs = torch.tensor([]).to(device)\n",
    "top_zs = torch.tensor([]).to(device)\n",
    "zs = [f_l_zs,s_l_zs,mid_zs,top_zs]"
   ]
  },
  {
   "cell_type": "code",
   "execution_count": 42,
   "id": "c3f29786-61f7-438e-b491-fc72d8438989",
   "metadata": {},
   "outputs": [],
   "source": [
    "num_nets = 2000\n",
    "for _ in range(num_nets):\n",
    "    with torch.no_grad():\n",
    "        x_temp = x\n",
    "        layers = create_layers(n,L)\n",
    "        for i in range(4):\n",
    "            layers[i].to(device)\n",
    "            z = layers[i](x_temp)\n",
    "            zs[i] = torch.cat((z, zs[i]), dim=0)\n",
    "            x_temp = z\n",
    "        torch.cuda.empty_cache()"
   ]
  },
  {
   "cell_type": "code",
   "execution_count": 43,
   "id": "4b80536c-1ace-483c-93ef-31a75c04bc31",
   "metadata": {},
   "outputs": [
    {
     "data": {
      "text/plain": [
       "torch.Size([2000, 256])"
      ]
     },
     "execution_count": 43,
     "metadata": {},
     "output_type": "execute_result"
    }
   ],
   "source": [
    "zs[0].shape"
   ]
  },
  {
   "cell_type": "code",
   "execution_count": 44,
   "id": "eac724de-ddbe-4109-9b66-b998fe927d72",
   "metadata": {},
   "outputs": [
    {
     "data": {
      "text/html": [
       "<div>\n",
       "<style scoped>\n",
       "    .dataframe tbody tr th:only-of-type {\n",
       "        vertical-align: middle;\n",
       "    }\n",
       "\n",
       "    .dataframe tbody tr th {\n",
       "        vertical-align: top;\n",
       "    }\n",
       "\n",
       "    .dataframe thead th {\n",
       "        text-align: right;\n",
       "    }\n",
       "</style>\n",
       "<table border=\"1\" class=\"dataframe\">\n",
       "  <thead>\n",
       "    <tr style=\"text-align: right;\">\n",
       "      <th></th>\n",
       "      <th>T2</th>\n",
       "      <th>F</th>\n",
       "      <th>df1</th>\n",
       "      <th>df2</th>\n",
       "      <th>pval</th>\n",
       "    </tr>\n",
       "  </thead>\n",
       "  <tbody>\n",
       "    <tr>\n",
       "      <th>hotelling</th>\n",
       "      <td>298.497144</td>\n",
       "      <td>1.017265</td>\n",
       "      <td>256</td>\n",
       "      <td>1744</td>\n",
       "      <td>0.418929</td>\n",
       "    </tr>\n",
       "  </tbody>\n",
       "</table>\n",
       "</div>"
      ],
      "text/plain": [
       "                   T2         F  df1   df2      pval\n",
       "hotelling  298.497144  1.017265  256  1744  0.418929"
      ]
     },
     "execution_count": 44,
     "metadata": {},
     "output_type": "execute_result"
    }
   ],
   "source": [
    "pg.multivariate_ttest(zs[3].cpu())"
   ]
  },
  {
   "cell_type": "code",
   "execution_count": 45,
   "id": "0fe71275-0a68-4006-81f0-b07c4e210a53",
   "metadata": {},
   "outputs": [
    {
     "data": {
      "text/plain": [
       "tensor([[-102.6563, -313.7347,   54.2371,  ...,  132.3438,   33.7585,\n",
       "          -59.9196],\n",
       "        [  78.9085,  174.9452, -243.0746,  ...,  207.6752,  134.7668,\n",
       "          -85.4098],\n",
       "        [ 413.4193,  -21.8748,  101.5424,  ..., -219.3279, -193.8071,\n",
       "         -162.1559],\n",
       "        [ -41.3945,  167.6516,    1.6018,  ..., -134.7312, -241.7362,\n",
       "         -147.2643]], device='cuda:0')"
      ]
     },
     "execution_count": 45,
     "metadata": {},
     "output_type": "execute_result"
    }
   ],
   "source": [
    "zs[3][:4]"
   ]
  },
  {
   "cell_type": "code",
   "execution_count": 46,
   "id": "dd4272f3-6c34-4e89-a8dc-f72c882f6e4c",
   "metadata": {},
   "outputs": [],
   "source": [
    "z_Ls = zs[3]"
   ]
  },
  {
   "cell_type": "code",
   "execution_count": 48,
   "id": "e51b0168-a2f3-48e0-8d21-5c977a9f7c59",
   "metadata": {},
   "outputs": [
    {
     "data": {
      "text/plain": [
       "tensor(0.0212, device='cuda:0')"
      ]
     },
     "execution_count": 48,
     "metadata": {},
     "output_type": "execute_result"
    }
   ],
   "source": [
    "def sample_con_cor(zs, a_1, a_2, a_3, a_4):\n",
    "    exp_all = (zs[:,a_1] * zs[:,a_2] * zs[:,a_3] * zs[:,a_4]).mean()\n",
    "    exp_12 = (zs[:,a_1] * zs[:,a_2]).mean()\n",
    "    exp_34 = (zs[:,a_3] * zs[:,a_4]).mean()\n",
    "    exp_13 = (zs[:,a_1] * zs[:,a_3]).mean()\n",
    "    exp_24 = (zs[:,a_2] * zs[:,a_4]).mean()\n",
    "    exp_14 = (zs[:,a_1] * zs[:,a_4]).mean()\n",
    "    exp_23 = (zs[:,a_2] * zs[:,a_3]).mean()\n",
    "    #print(exp_all,exp_12, exp_34,exp_13,exp_24,exp_14,exp_23)\n",
    "    con_cor = exp_all - exp_12*exp_34 - exp_13*exp_24 - exp_14*exp_23\n",
    "    #print(exp_12*exp_34,exp_13*exp_24,exp_14*exp_23)\n",
    "    return con_cor\n",
    "\n",
    "count = 0\n",
    "samples = 1000\n",
    "for _ in range(samples):\n",
    "    i=random.randint(0,out_shape-1)\n",
    "    idxs = random.choices(list(range(out_shape)),k=4)\n",
    "    con_c = sample_con_cor(z_Ls, *idxs)\n",
    "    K = (z_Ls[:,i] * z_Ls[:,i]).mean() - z_Ls[:,i].mean()*z_Ls[:,i].mean()\n",
    "    count+= abs(con_c)/(K*K)\n",
    "count/samples"
   ]
  },
  {
   "cell_type": "code",
   "execution_count": null,
   "id": "9d8c1fca-b097-4373-aad1-1c7810b09999",
   "metadata": {},
   "outputs": [],
   "source": [
    "#0.0187, 0.0186, 0.0230"
   ]
  }
 ],
 "metadata": {
  "kernelspec": {
   "display_name": "Python 3 (ipykernel)",
   "language": "python",
   "name": "python3"
  },
  "language_info": {
   "codemirror_mode": {
    "name": "ipython",
    "version": 3
   },
   "file_extension": ".py",
   "mimetype": "text/x-python",
   "name": "python",
   "nbconvert_exporter": "python",
   "pygments_lexer": "ipython3",
   "version": "3.10.2"
  }
 },
 "nbformat": 4,
 "nbformat_minor": 5
}
