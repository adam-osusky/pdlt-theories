{
 "cells": [
  {
   "cell_type": "markdown",
   "metadata": {
    "id": "qDBipxtYgCmR"
   },
   "source": [
    "# Effective Theory of Deep Linear Networks at Initialization\n",
    "\n",
    "In this notebook we will test the Effective Theory from the third chapter of the book. More specifically we will look at linear neural networks and their output distribution. That means that the activation function will be linear.\n",
    "\n",
    "It is highly recommended to read the book or atleast the third chapter."
   ]
  },
  {
   "cell_type": "markdown",
   "metadata": {
    "id": "tdW0xcpqw5rA"
   },
   "source": [
    "## $p(z^{(L)} | x)$ is Gaussian\n",
    "(3.48)\n",
    "\n",
    "![a](../pictures/1.PNG)\n"
   ]
  },
  {
   "cell_type": "markdown",
   "metadata": {},
   "source": [
    "We will test it empirically. Linear neural networks with infinite width have output distribution precisly Gaussian. Because it is impossible to have infinite width we will look at how the sample connected 4-point correlator change with scaling width with respect to ensemble of networks. Gaussian distribution has connected correlators (4 point and higher) equal to 0. For nearly Gaussian distribution the connected correlators should be small. (1.54) (4.77) We will also try the Henze-Zirkler test for multivariate normality on outputs of the ensemble of networks.\n",
    "\n",
    "\n",
    "We will use critical initialization hyperparameters($C_w = 1$) and set fixed L."
   ]
  },
  {
   "cell_type": "code",
   "execution_count": null,
   "metadata": {
    "id": "hlSblOo2aDUU"
   },
   "outputs": [],
   "source": [
    "import pandas as pd\n",
    "from sklearn.model_selection import train_test_split\n",
    "import math\n",
    "\n",
    "import torch\n",
    "import torch.nn as nn\n",
    "import torchvision\n",
    "from torchvision import transforms\n",
    "from torch.utils.data import Dataset, DataLoader\n",
    "\n",
    "import pingouin as pg\n",
    "\n",
    "import numpy as np\n",
    "from mpl_toolkits.mplot3d import Axes3D\n",
    "import matplotlib.pyplot as plt\n",
    "import random\n",
    "random.seed(69)\n",
    "random.seed(69)\n",
    "torch.manual_seed(69)"
   ]
  },
  {
   "cell_type": "code",
   "execution_count": 2,
   "metadata": {},
   "outputs": [],
   "source": [
    "#parameters\n",
    "n = 12288\n",
    "L = 3\n",
    "inp_shape = 12288\n",
    "out_shape = 12288"
   ]
  },
  {
   "cell_type": "code",
   "execution_count": 3,
   "metadata": {
    "id": "t2K5yI_daNCw"
   },
   "outputs": [],
   "source": [
    "def try_gpu(i=0):\n",
    "    if torch.cuda.device_count() >= i + 1:\n",
    "        return torch.device(f'cuda:{i}')\n",
    "    return torch.device('cpu')\n",
    "device = try_gpu()"
   ]
  },
  {
   "cell_type": "code",
   "execution_count": 4,
   "metadata": {
    "colab": {
     "base_uri": "https://localhost:8080/"
    },
    "executionInfo": {
     "elapsed": 17,
     "status": "ok",
     "timestamp": 1635785548293,
     "user": {
      "displayName": "Adam Osusky",
      "photoUrl": "https://lh3.googleusercontent.com/a/default-user=s64",
      "userId": "08249518049947370019"
     },
     "user_tz": -60
    },
    "id": "YLV24kmnaNpP",
    "outputId": "0726cbef-bff2-448e-9ea8-a728818707b9"
   },
   "outputs": [],
   "source": [
    "#device = torch.device('cpu')"
   ]
  },
  {
   "cell_type": "code",
   "execution_count": 5,
   "metadata": {},
   "outputs": [
    {
     "data": {
      "text/plain": [
       "device(type='cuda', index=0)"
      ]
     },
     "execution_count": 5,
     "metadata": {},
     "output_type": "execute_result"
    }
   ],
   "source": [
    "device"
   ]
  },
  {
   "cell_type": "code",
   "execution_count": 6,
   "metadata": {
    "id": "zv0p8WjRddBA"
   },
   "outputs": [],
   "source": [
    "def count_para(net):\n",
    "    return sum([p.numel() for p in net.parameters() if p.requires_grad])"
   ]
  },
  {
   "cell_type": "code",
   "execution_count": 7,
   "metadata": {},
   "outputs": [],
   "source": [
    "def critical_initialization_linear(tensor):\n",
    "    if type(tensor) == nn.Linear:\n",
    "        with torch.no_grad():\n",
    "            #return tensor.normal_(0, 1)\n",
    "            return torch.nn.init.normal_(tensor.weight, mean=0.0, std=1.0)"
   ]
  },
  {
   "cell_type": "code",
   "execution_count": 48,
   "metadata": {},
   "outputs": [],
   "source": [
    "def create_net(n,l,inp_shape=n,out_shape=n):\n",
    "    blks = []\n",
    "    n = n\n",
    "    L = l\n",
    "    for _ in range(L-2):\n",
    "        blks.append( nn.Sequential(nn.Linear(n, n,bias=False)))\n",
    "    inp = nn.Sequential(nn.Linear(inp_shape, n,bias=False))\n",
    "    mid = nn.Sequential(*blks)\n",
    "    top = nn.Sequential(nn.Linear(n, out_shape,bias=False))\n",
    "    net = nn.Sequential(inp, mid, top)\n",
    "    net.apply(critical_initialization_linear)\n",
    "    net = net.eval()\n",
    "    return net"
   ]
  },
  {
   "cell_type": "code",
   "execution_count": 9,
   "metadata": {},
   "outputs": [
    {
     "data": {
      "text/plain": [
       "452984832"
      ]
     },
     "execution_count": 9,
     "metadata": {},
     "output_type": "execute_result"
    }
   ],
   "source": [
    "net = create_net(n,L)\n",
    "count_para(net)"
   ]
  },
  {
   "cell_type": "code",
   "execution_count": 10,
   "metadata": {},
   "outputs": [],
   "source": [
    "x = torch.rand((1, inp_shape), dtype=torch.float)\n",
    "x = (x - x.mean(dim=1))/x.std(dim=1)\n",
    "x = x.to(device)"
   ]
  },
  {
   "cell_type": "code",
   "execution_count": 11,
   "metadata": {},
   "outputs": [
    {
     "data": {
      "text/plain": [
       "torch.Size([1, 12288])"
      ]
     },
     "execution_count": 11,
     "metadata": {},
     "output_type": "execute_result"
    }
   ],
   "source": [
    "x.shape"
   ]
  },
  {
   "cell_type": "code",
   "execution_count": 12,
   "metadata": {},
   "outputs": [
    {
     "data": {
      "text/plain": [
       "Sequential(\n",
       "  (0): Sequential(\n",
       "    (0): Linear(in_features=12288, out_features=12288, bias=False)\n",
       "  )\n",
       "  (1): Sequential(\n",
       "    (0): Sequential(\n",
       "      (0): Linear(in_features=12288, out_features=12288, bias=False)\n",
       "    )\n",
       "  )\n",
       "  (2): Sequential(\n",
       "    (0): Linear(in_features=12288, out_features=12288, bias=False)\n",
       "  )\n",
       ")"
      ]
     },
     "execution_count": 12,
     "metadata": {},
     "output_type": "execute_result"
    }
   ],
   "source": [
    "net"
   ]
  },
  {
   "cell_type": "code",
   "execution_count": 21,
   "metadata": {},
   "outputs": [
    {
     "ename": "KeyboardInterrupt",
     "evalue": "",
     "output_type": "error",
     "traceback": [
      "\u001b[1;31m---------------------------------------------------------------------------\u001b[0m",
      "\u001b[1;31mKeyboardInterrupt\u001b[0m                         Traceback (most recent call last)",
      "\u001b[1;32m<ipython-input-21-195e3cf01668>\u001b[0m in \u001b[0;36m<module>\u001b[1;34m\u001b[0m\n\u001b[0;32m      5\u001b[0m     \u001b[1;32mwith\u001b[0m \u001b[0mtorch\u001b[0m\u001b[1;33m.\u001b[0m\u001b[0mno_grad\u001b[0m\u001b[1;33m(\u001b[0m\u001b[1;33m)\u001b[0m\u001b[1;33m:\u001b[0m\u001b[1;33m\u001b[0m\u001b[1;33m\u001b[0m\u001b[0m\n\u001b[0;32m      6\u001b[0m         \u001b[0mnet\u001b[0m \u001b[1;33m=\u001b[0m \u001b[0mcreate_net\u001b[0m\u001b[1;33m(\u001b[0m\u001b[0mn\u001b[0m\u001b[1;33m,\u001b[0m\u001b[0mL\u001b[0m\u001b[1;33m)\u001b[0m\u001b[1;33m\u001b[0m\u001b[1;33m\u001b[0m\u001b[0m\n\u001b[1;32m----> 7\u001b[1;33m         \u001b[0mnet\u001b[0m\u001b[1;33m.\u001b[0m\u001b[0mto\u001b[0m\u001b[1;33m(\u001b[0m\u001b[0mdevice\u001b[0m\u001b[1;33m)\u001b[0m\u001b[1;33m\u001b[0m\u001b[1;33m\u001b[0m\u001b[0m\n\u001b[0m\u001b[0;32m      8\u001b[0m         \u001b[0mz\u001b[0m \u001b[1;33m=\u001b[0m \u001b[0mnet\u001b[0m\u001b[1;33m(\u001b[0m\u001b[0mx\u001b[0m\u001b[1;33m)\u001b[0m\u001b[1;33m\u001b[0m\u001b[1;33m\u001b[0m\u001b[0m\n\u001b[0;32m      9\u001b[0m         \u001b[0mz_Ls\u001b[0m \u001b[1;33m=\u001b[0m \u001b[0mtorch\u001b[0m\u001b[1;33m.\u001b[0m\u001b[0mcat\u001b[0m\u001b[1;33m(\u001b[0m\u001b[1;33m(\u001b[0m\u001b[0mz_Ls\u001b[0m\u001b[1;33m,\u001b[0m \u001b[0mz\u001b[0m\u001b[1;33m)\u001b[0m\u001b[1;33m,\u001b[0m \u001b[0mdim\u001b[0m\u001b[1;33m=\u001b[0m\u001b[1;36m0\u001b[0m\u001b[1;33m)\u001b[0m\u001b[1;33m\u001b[0m\u001b[1;33m\u001b[0m\u001b[0m\n",
      "\u001b[1;32m~\\anaconda3\\envs\\torch-env-1\\lib\\site-packages\\torch\\nn\\modules\\module.py\u001b[0m in \u001b[0;36mto\u001b[1;34m(self, *args, **kwargs)\u001b[0m\n\u001b[0;32m    897\u001b[0m             \u001b[1;32mreturn\u001b[0m \u001b[0mt\u001b[0m\u001b[1;33m.\u001b[0m\u001b[0mto\u001b[0m\u001b[1;33m(\u001b[0m\u001b[0mdevice\u001b[0m\u001b[1;33m,\u001b[0m \u001b[0mdtype\u001b[0m \u001b[1;32mif\u001b[0m \u001b[0mt\u001b[0m\u001b[1;33m.\u001b[0m\u001b[0mis_floating_point\u001b[0m\u001b[1;33m(\u001b[0m\u001b[1;33m)\u001b[0m \u001b[1;32mor\u001b[0m \u001b[0mt\u001b[0m\u001b[1;33m.\u001b[0m\u001b[0mis_complex\u001b[0m\u001b[1;33m(\u001b[0m\u001b[1;33m)\u001b[0m \u001b[1;32melse\u001b[0m \u001b[1;32mNone\u001b[0m\u001b[1;33m,\u001b[0m \u001b[0mnon_blocking\u001b[0m\u001b[1;33m)\u001b[0m\u001b[1;33m\u001b[0m\u001b[1;33m\u001b[0m\u001b[0m\n\u001b[0;32m    898\u001b[0m \u001b[1;33m\u001b[0m\u001b[0m\n\u001b[1;32m--> 899\u001b[1;33m         \u001b[1;32mreturn\u001b[0m \u001b[0mself\u001b[0m\u001b[1;33m.\u001b[0m\u001b[0m_apply\u001b[0m\u001b[1;33m(\u001b[0m\u001b[0mconvert\u001b[0m\u001b[1;33m)\u001b[0m\u001b[1;33m\u001b[0m\u001b[1;33m\u001b[0m\u001b[0m\n\u001b[0m\u001b[0;32m    900\u001b[0m \u001b[1;33m\u001b[0m\u001b[0m\n\u001b[0;32m    901\u001b[0m     def register_backward_hook(\n",
      "\u001b[1;32m~\\anaconda3\\envs\\torch-env-1\\lib\\site-packages\\torch\\nn\\modules\\module.py\u001b[0m in \u001b[0;36m_apply\u001b[1;34m(self, fn)\u001b[0m\n\u001b[0;32m    568\u001b[0m     \u001b[1;32mdef\u001b[0m \u001b[0m_apply\u001b[0m\u001b[1;33m(\u001b[0m\u001b[0mself\u001b[0m\u001b[1;33m,\u001b[0m \u001b[0mfn\u001b[0m\u001b[1;33m)\u001b[0m\u001b[1;33m:\u001b[0m\u001b[1;33m\u001b[0m\u001b[1;33m\u001b[0m\u001b[0m\n\u001b[0;32m    569\u001b[0m         \u001b[1;32mfor\u001b[0m \u001b[0mmodule\u001b[0m \u001b[1;32min\u001b[0m \u001b[0mself\u001b[0m\u001b[1;33m.\u001b[0m\u001b[0mchildren\u001b[0m\u001b[1;33m(\u001b[0m\u001b[1;33m)\u001b[0m\u001b[1;33m:\u001b[0m\u001b[1;33m\u001b[0m\u001b[1;33m\u001b[0m\u001b[0m\n\u001b[1;32m--> 570\u001b[1;33m             \u001b[0mmodule\u001b[0m\u001b[1;33m.\u001b[0m\u001b[0m_apply\u001b[0m\u001b[1;33m(\u001b[0m\u001b[0mfn\u001b[0m\u001b[1;33m)\u001b[0m\u001b[1;33m\u001b[0m\u001b[1;33m\u001b[0m\u001b[0m\n\u001b[0m\u001b[0;32m    571\u001b[0m \u001b[1;33m\u001b[0m\u001b[0m\n\u001b[0;32m    572\u001b[0m         \u001b[1;32mdef\u001b[0m \u001b[0mcompute_should_use_set_data\u001b[0m\u001b[1;33m(\u001b[0m\u001b[0mtensor\u001b[0m\u001b[1;33m,\u001b[0m \u001b[0mtensor_applied\u001b[0m\u001b[1;33m)\u001b[0m\u001b[1;33m:\u001b[0m\u001b[1;33m\u001b[0m\u001b[1;33m\u001b[0m\u001b[0m\n",
      "\u001b[1;32m~\\anaconda3\\envs\\torch-env-1\\lib\\site-packages\\torch\\nn\\modules\\module.py\u001b[0m in \u001b[0;36m_apply\u001b[1;34m(self, fn)\u001b[0m\n\u001b[0;32m    568\u001b[0m     \u001b[1;32mdef\u001b[0m \u001b[0m_apply\u001b[0m\u001b[1;33m(\u001b[0m\u001b[0mself\u001b[0m\u001b[1;33m,\u001b[0m \u001b[0mfn\u001b[0m\u001b[1;33m)\u001b[0m\u001b[1;33m:\u001b[0m\u001b[1;33m\u001b[0m\u001b[1;33m\u001b[0m\u001b[0m\n\u001b[0;32m    569\u001b[0m         \u001b[1;32mfor\u001b[0m \u001b[0mmodule\u001b[0m \u001b[1;32min\u001b[0m \u001b[0mself\u001b[0m\u001b[1;33m.\u001b[0m\u001b[0mchildren\u001b[0m\u001b[1;33m(\u001b[0m\u001b[1;33m)\u001b[0m\u001b[1;33m:\u001b[0m\u001b[1;33m\u001b[0m\u001b[1;33m\u001b[0m\u001b[0m\n\u001b[1;32m--> 570\u001b[1;33m             \u001b[0mmodule\u001b[0m\u001b[1;33m.\u001b[0m\u001b[0m_apply\u001b[0m\u001b[1;33m(\u001b[0m\u001b[0mfn\u001b[0m\u001b[1;33m)\u001b[0m\u001b[1;33m\u001b[0m\u001b[1;33m\u001b[0m\u001b[0m\n\u001b[0m\u001b[0;32m    571\u001b[0m \u001b[1;33m\u001b[0m\u001b[0m\n\u001b[0;32m    572\u001b[0m         \u001b[1;32mdef\u001b[0m \u001b[0mcompute_should_use_set_data\u001b[0m\u001b[1;33m(\u001b[0m\u001b[0mtensor\u001b[0m\u001b[1;33m,\u001b[0m \u001b[0mtensor_applied\u001b[0m\u001b[1;33m)\u001b[0m\u001b[1;33m:\u001b[0m\u001b[1;33m\u001b[0m\u001b[1;33m\u001b[0m\u001b[0m\n",
      "\u001b[1;32m~\\anaconda3\\envs\\torch-env-1\\lib\\site-packages\\torch\\nn\\modules\\module.py\u001b[0m in \u001b[0;36m_apply\u001b[1;34m(self, fn)\u001b[0m\n\u001b[0;32m    602\u001b[0m                 \u001b[0mself\u001b[0m\u001b[1;33m.\u001b[0m\u001b[0m_parameters\u001b[0m\u001b[1;33m[\u001b[0m\u001b[0mkey\u001b[0m\u001b[1;33m]\u001b[0m \u001b[1;33m=\u001b[0m \u001b[0mout_param\u001b[0m\u001b[1;33m\u001b[0m\u001b[1;33m\u001b[0m\u001b[0m\n\u001b[0;32m    603\u001b[0m \u001b[1;33m\u001b[0m\u001b[0m\n\u001b[1;32m--> 604\u001b[1;33m             \u001b[1;32mif\u001b[0m \u001b[0mparam\u001b[0m\u001b[1;33m.\u001b[0m\u001b[0mgrad\u001b[0m \u001b[1;32mis\u001b[0m \u001b[1;32mnot\u001b[0m \u001b[1;32mNone\u001b[0m\u001b[1;33m:\u001b[0m\u001b[1;33m\u001b[0m\u001b[1;33m\u001b[0m\u001b[0m\n\u001b[0m\u001b[0;32m    605\u001b[0m                 \u001b[1;32mwith\u001b[0m \u001b[0mtorch\u001b[0m\u001b[1;33m.\u001b[0m\u001b[0mno_grad\u001b[0m\u001b[1;33m(\u001b[0m\u001b[1;33m)\u001b[0m\u001b[1;33m:\u001b[0m\u001b[1;33m\u001b[0m\u001b[1;33m\u001b[0m\u001b[0m\n\u001b[0;32m    606\u001b[0m                     \u001b[0mgrad_applied\u001b[0m \u001b[1;33m=\u001b[0m \u001b[0mfn\u001b[0m\u001b[1;33m(\u001b[0m\u001b[0mparam\u001b[0m\u001b[1;33m.\u001b[0m\u001b[0mgrad\u001b[0m\u001b[1;33m)\u001b[0m\u001b[1;33m\u001b[0m\u001b[1;33m\u001b[0m\u001b[0m\n",
      "\u001b[1;32m~\\anaconda3\\envs\\torch-env-1\\lib\\site-packages\\torch\\_tensor.py\u001b[0m in \u001b[0;36mgrad\u001b[1;34m(self)\u001b[0m\n\u001b[0;32m    999\u001b[0m             \u001b[1;32mreturn\u001b[0m \u001b[0msuper\u001b[0m\u001b[1;33m(\u001b[0m\u001b[0mTensor\u001b[0m\u001b[1;33m,\u001b[0m \u001b[0mself\u001b[0m\u001b[1;33m)\u001b[0m\u001b[1;33m.\u001b[0m\u001b[0mrename\u001b[0m\u001b[1;33m(\u001b[0m\u001b[0mnames\u001b[0m\u001b[1;33m)\u001b[0m\u001b[1;33m\u001b[0m\u001b[1;33m\u001b[0m\u001b[0m\n\u001b[0;32m   1000\u001b[0m \u001b[1;33m\u001b[0m\u001b[0m\n\u001b[1;32m-> 1001\u001b[1;33m     \u001b[1;33m@\u001b[0m\u001b[0mproperty\u001b[0m\u001b[1;33m\u001b[0m\u001b[1;33m\u001b[0m\u001b[0m\n\u001b[0m\u001b[0;32m   1002\u001b[0m     \u001b[1;32mdef\u001b[0m \u001b[0mgrad\u001b[0m\u001b[1;33m(\u001b[0m\u001b[0mself\u001b[0m\u001b[1;33m)\u001b[0m\u001b[1;33m:\u001b[0m\u001b[1;33m\u001b[0m\u001b[1;33m\u001b[0m\u001b[0m\n\u001b[0;32m   1003\u001b[0m         \"\"\"\n",
      "\u001b[1;31mKeyboardInterrupt\u001b[0m: "
     ]
    }
   ],
   "source": [
    "num_nets = 1000\n",
    "z_Ls = torch.tensor([])\n",
    "z_Ls = z_Ls.to(device)\n",
    "for _ in range(num_nets):\n",
    "    with torch.no_grad():\n",
    "        net = create_net(n,L)\n",
    "        net.to(device)\n",
    "        z = net(x)\n",
    "        z_Ls = torch.cat((z_Ls, z), dim=0)\n",
    "        torch.cuda.empty_cache()"
   ]
  },
  {
   "cell_type": "code",
   "execution_count": 9,
   "metadata": {},
   "outputs": [],
   "source": [
    "PATH = \"12288-3-677nets.pt\"\n",
    "\n",
    "# torch.save({\n",
    "#             'outputs': z_Ls\n",
    "#             }, PATH)"
   ]
  },
  {
   "cell_type": "code",
   "execution_count": 10,
   "metadata": {},
   "outputs": [],
   "source": [
    "d = torch.load(PATH)"
   ]
  },
  {
   "cell_type": "code",
   "execution_count": 11,
   "metadata": {},
   "outputs": [],
   "source": [
    "z_Ls = d['outputs']"
   ]
  },
  {
   "cell_type": "code",
   "execution_count": 12,
   "metadata": {},
   "outputs": [
    {
     "data": {
      "text/plain": [
       "torch.Size([677, 12288])"
      ]
     },
     "execution_count": 12,
     "metadata": {},
     "output_type": "execute_result"
    }
   ],
   "source": [
    "z_Ls.shape"
   ]
  },
  {
   "cell_type": "code",
   "execution_count": 22,
   "metadata": {},
   "outputs": [],
   "source": [
    "pvals = []\n",
    "for _ in range(100):\n",
    "    z = z_Ls.cpu().detach()\n",
    "    index = np.random.choice(z.shape[1], 666, replace=False)\n",
    "    z = z[:,index]\n",
    "    #z = np.concatenate([z for _ in range(2)])\n",
    "    z.shape\n",
    "    df = pg.multivariate_ttest(z)\n",
    "    pvals.append(df['pval'].item())\n",
    "    #print(df['pval'].item())\n",
    "pvals = np.array(pvals)"
   ]
  },
  {
   "cell_type": "code",
   "execution_count": 23,
   "metadata": {},
   "outputs": [
    {
     "data": {
      "text/plain": [
       "0.5147019851929099"
      ]
     },
     "execution_count": 23,
     "metadata": {},
     "output_type": "execute_result"
    }
   ],
   "source": [
    "pvals.mean()"
   ]
  },
  {
   "cell_type": "code",
   "execution_count": 24,
   "metadata": {},
   "outputs": [
    {
     "data": {
      "text/html": [
       "<div>\n",
       "<style scoped>\n",
       "    .dataframe tbody tr th:only-of-type {\n",
       "        vertical-align: middle;\n",
       "    }\n",
       "\n",
       "    .dataframe tbody tr th {\n",
       "        vertical-align: top;\n",
       "    }\n",
       "\n",
       "    .dataframe thead th {\n",
       "        text-align: right;\n",
       "    }\n",
       "</style>\n",
       "<table border=\"1\" class=\"dataframe\">\n",
       "  <thead>\n",
       "    <tr style=\"text-align: right;\">\n",
       "      <th></th>\n",
       "      <th>T2</th>\n",
       "      <th>F</th>\n",
       "      <th>df1</th>\n",
       "      <th>df2</th>\n",
       "      <th>pval</th>\n",
       "    </tr>\n",
       "  </thead>\n",
       "  <tbody>\n",
       "    <tr>\n",
       "      <th>hotelling</th>\n",
       "      <td>50418.612695</td>\n",
       "      <td>1.231864</td>\n",
       "      <td>666</td>\n",
       "      <td>11</td>\n",
       "      <td>0.371646</td>\n",
       "    </tr>\n",
       "  </tbody>\n",
       "</table>\n",
       "</div>"
      ],
      "text/plain": [
       "                     T2         F  df1  df2      pval\n",
       "hotelling  50418.612695  1.231864  666   11  0.371646"
      ]
     },
     "execution_count": 24,
     "metadata": {},
     "output_type": "execute_result"
    }
   ],
   "source": [
    "pg.multivariate_ttest(z)"
   ]
  },
  {
   "cell_type": "code",
   "execution_count": 25,
   "metadata": {},
   "outputs": [
    {
     "data": {
      "text/html": [
       "<div>\n",
       "<style scoped>\n",
       "    .dataframe tbody tr th:only-of-type {\n",
       "        vertical-align: middle;\n",
       "    }\n",
       "\n",
       "    .dataframe tbody tr th {\n",
       "        vertical-align: top;\n",
       "    }\n",
       "\n",
       "    .dataframe thead th {\n",
       "        text-align: right;\n",
       "    }\n",
       "</style>\n",
       "<table border=\"1\" class=\"dataframe\">\n",
       "  <thead>\n",
       "    <tr style=\"text-align: right;\">\n",
       "      <th></th>\n",
       "      <th>T2</th>\n",
       "      <th>F</th>\n",
       "      <th>df1</th>\n",
       "      <th>df2</th>\n",
       "      <th>pval</th>\n",
       "    </tr>\n",
       "  </thead>\n",
       "  <tbody>\n",
       "    <tr>\n",
       "      <th>hotelling</th>\n",
       "      <td>9.61822</td>\n",
       "      <td>0.000022</td>\n",
       "      <td>666</td>\n",
       "      <td>1</td>\n",
       "      <td>1.0</td>\n",
       "    </tr>\n",
       "  </tbody>\n",
       "</table>\n",
       "</div>"
      ],
      "text/plain": [
       "                T2         F  df1  df2  pval\n",
       "hotelling  9.61822  0.000022  666    1   1.0"
      ]
     },
     "execution_count": 25,
     "metadata": {},
     "output_type": "execute_result"
    }
   ],
   "source": [
    "k = 666\n",
    "n = 667\n",
    "a = np.random.multivariate_normal(np.zeros(k), np.ones((k,k)), size=(n))\n",
    "pg.multivariate_ttest(a)"
   ]
  },
  {
   "cell_type": "code",
   "execution_count": 26,
   "metadata": {},
   "outputs": [],
   "source": [
    "def sample_con_cor(zs, a_1, a_2, a_3, a_4):\n",
    "    exp_all = (zs[:,a_1] * zs[:,a_2] * zs[:,a_3] * zs[:,a_4]).mean()\n",
    "    exp_12 = (zs[:,a_1] * zs[:,a_2]).mean()\n",
    "    exp_34 = (zs[:,a_3] * zs[:,a_4]).mean()\n",
    "    exp_13 = (zs[:,a_1] * zs[:,a_3]).mean()\n",
    "    exp_24 = (zs[:,a_2] * zs[:,a_4]).mean()\n",
    "    exp_14 = (zs[:,a_1] * zs[:,a_4]).mean()\n",
    "    exp_23 = (zs[:,a_2] * zs[:,a_3]).mean()\n",
    "    #print(exp_all,exp_12, exp_34,exp_13,exp_24,exp_14,exp_23)\n",
    "    con_cor = exp_all - exp_12*exp_34 - exp_13*exp_24 - exp_14*exp_23\n",
    "    #print(exp_12*exp_34,exp_13*exp_24,exp_14*exp_23)\n",
    "    return con_cor"
   ]
  },
  {
   "cell_type": "code",
   "execution_count": 32,
   "metadata": {},
   "outputs": [
    {
     "data": {
      "text/plain": [
       "tensor(0.0299, device='cuda:0')"
      ]
     },
     "execution_count": 32,
     "metadata": {},
     "output_type": "execute_result"
    }
   ],
   "source": [
    "count = 0\n",
    "samples = 1000\n",
    "con_cs = 0\n",
    "Ks = 0\n",
    "for _ in range(samples):\n",
    "    i=random.randint(0,out_shape-1)\n",
    "    idxs = random.choices(list(range(out_shape)),k=4)\n",
    "    con_c = sample_con_cor(z_Ls, *idxs)\n",
    "    K = (z_Ls[:,i] * z_Ls[:,i]).mean() - z_Ls[:,i].mean()*z_Ls[:,i].mean()\n",
    "    count+= abs(con_c)/(K*K)\n",
    "    con_cs += abs(con_c)\n",
    "    Ks += K*K\n",
    "count/samples"
   ]
  },
  {
   "cell_type": "code",
   "execution_count": 40,
   "metadata": {},
   "outputs": [
    {
     "data": {
      "text/plain": [
       "tensor(0.0074, device='cuda:0')"
      ]
     },
     "execution_count": 40,
     "metadata": {},
     "output_type": "execute_result"
    }
   ],
   "source": [
    "i=random.randint(0,out_shape-1)\n",
    "idxs = random.choices(list(range(out_shape)),k=4)\n",
    "con_c = sample_con_cor(z_Ls, *idxs)\n",
    "K = (z_Ls[:,i] * z_Ls[:,i]).mean() - z_Ls[:,i].mean()*z_Ls[:,i].mean()\n",
    "count= abs(con_c)/(K*K)\n",
    "count"
   ]
  },
  {
   "cell_type": "markdown",
   "metadata": {},
   "source": [
    "# Chaos\n",
    "\n",
    "(3.50)\n",
    "\n",
    "![a](../pictures/chaos.PNG)"
   ]
  },
  {
   "cell_type": "code",
   "execution_count": 80,
   "metadata": {},
   "outputs": [],
   "source": [
    "#parameters\n",
    "n = 16\n",
    "L = 25#1e5 -- 25_992_704\n",
    "inp_shape = 16\n",
    "out_shape = 16\n",
    "\n",
    "def create_net(n,l,inp_shape=n,out_shape=n):\n",
    "    blks = []\n",
    "    n = n\n",
    "    L = l\n",
    "    for _ in range(L-2):\n",
    "        blks.append( nn.Sequential(nn.Linear(n, n,bias=False)))\n",
    "    inp = nn.Sequential(nn.Linear(inp_shape, n,bias=False))\n",
    "    mid = nn.Sequential(*blks)\n",
    "    top = nn.Sequential(nn.Linear(n, out_shape,bias=False))\n",
    "    net = nn.Sequential(inp, mid, top)\n",
    "    net.apply(critical_initialization_linear)\n",
    "    net = net.eval()\n",
    "    return net"
   ]
  },
  {
   "cell_type": "code",
   "execution_count": 81,
   "metadata": {},
   "outputs": [
    {
     "data": {
      "text/plain": [
       "6400"
      ]
     },
     "execution_count": 81,
     "metadata": {},
     "output_type": "execute_result"
    }
   ],
   "source": [
    "net = create_net(n,L)\n",
    "count_para(net)"
   ]
  },
  {
   "cell_type": "code",
   "execution_count": 82,
   "metadata": {},
   "outputs": [],
   "source": [
    "x = torch.rand((1, inp_shape), dtype=torch.float)\n",
    "x = (x - x.mean(dim=1))/x.std(dim=1)\n",
    "x = x.to(device)"
   ]
  },
  {
   "cell_type": "code",
   "execution_count": 83,
   "metadata": {},
   "outputs": [
    {
     "data": {
      "text/plain": [
       "torch.Size([1, 16])"
      ]
     },
     "execution_count": 83,
     "metadata": {},
     "output_type": "execute_result"
    }
   ],
   "source": [
    "x.shape"
   ]
  },
  {
   "cell_type": "code",
   "execution_count": 84,
   "metadata": {},
   "outputs": [],
   "source": [
    "def sample_con_cor(zs, a_1, a_2, a_3, a_4):\n",
    "    exp_all = (zs[:,a_1] * zs[:,a_2] * zs[:,a_3] * zs[:,a_4]).mean()\n",
    "    exp_12 = (zs[:,a_1] * zs[:,a_2]).mean()\n",
    "    exp_34 = (zs[:,a_3] * zs[:,a_4]).mean()\n",
    "    exp_13 = (zs[:,a_1] * zs[:,a_3]).mean()\n",
    "    exp_24 = (zs[:,a_2] * zs[:,a_4]).mean()\n",
    "    exp_14 = (zs[:,a_1] * zs[:,a_4]).mean()\n",
    "    exp_23 = (zs[:,a_2] * zs[:,a_3]).mean()\n",
    "    print(exp_all,exp_12, exp_34,exp_13,exp_24,exp_14,exp_23)\n",
    "    con_cor = exp_all - exp_12*exp_34 - exp_13*exp_24 - exp_14*exp_23\n",
    "    print(exp_12*exp_34,exp_13*exp_24,exp_14*exp_23)\n",
    "    return con_cor"
   ]
  },
  {
   "cell_type": "code",
   "execution_count": 85,
   "metadata": {},
   "outputs": [],
   "source": [
    "num_nets = 10\n",
    "z_Ls = torch.tensor([])\n",
    "z_Ls = z_Ls.to(device)\n",
    "for _ in range(num_nets):\n",
    "    with torch.no_grad():\n",
    "        net = create_net(n,L)\n",
    "        net.to(device)\n",
    "        z = net(x)\n",
    "        z_Ls = torch.cat((z_Ls, z), dim=0)\n",
    "        torch.cuda.empty_cache()"
   ]
  },
  {
   "cell_type": "code",
   "execution_count": 86,
   "metadata": {},
   "outputs": [
    {
     "data": {
      "text/plain": [
       "tensor([-2.3946e+14, -3.1475e+13, -4.4411e+14, -3.3243e+13,  1.8281e+14,\n",
       "        -5.7144e+14,  2.4473e+14, -5.0012e+13, -1.1685e+14,  9.7677e+13,\n",
       "        -5.3157e+13,  1.5606e+14, -7.2179e+12,  2.3542e+14,  1.8082e+14,\n",
       "         2.5545e+13], device='cuda:0')"
      ]
     },
     "execution_count": 86,
     "metadata": {},
     "output_type": "execute_result"
    }
   ],
   "source": [
    "z_Ls.mean(dim=0)"
   ]
  },
  {
   "cell_type": "code",
   "execution_count": 87,
   "metadata": {},
   "outputs": [
    {
     "name": "stdout",
     "output_type": "stream",
     "text": [
      "tensor(nan, device='cuda:0') tensor(6.6265e+27, device='cuda:0') tensor(1.1043e+29, device='cuda:0') tensor(2.3241e+28, device='cuda:0') tensor(1.0967e+29, device='cuda:0') tensor(2.3241e+28, device='cuda:0') tensor(1.0967e+29, device='cuda:0')\n",
      "tensor(inf, device='cuda:0') tensor(inf, device='cuda:0') tensor(inf, device='cuda:0')\n",
      "tensor(nan, device='cuda:0') tensor(inf, device='cuda:0')\n",
      "tensor(nan, device='cuda:0') tensor(-6.5300e+27, device='cuda:0') tensor(6.6265e+27, device='cuda:0') tensor(7.4421e+28, device='cuda:0') tensor(1.5528e+28, device='cuda:0') tensor(7.1754e+28, device='cuda:0') tensor(9.0916e+29, device='cuda:0')\n",
      "tensor(-inf, device='cuda:0') tensor(inf, device='cuda:0') tensor(inf, device='cuda:0')\n",
      "tensor(nan, device='cuda:0') tensor(inf, device='cuda:0')\n"
     ]
    },
    {
     "data": {
      "text/plain": [
       "tensor(nan, device='cuda:0')"
      ]
     },
     "execution_count": 87,
     "metadata": {},
     "output_type": "execute_result"
    }
   ],
   "source": [
    "count = 0\n",
    "samples = 2\n",
    "con_cs = 0\n",
    "Ks = 0\n",
    "for _ in range(samples):\n",
    "    i=random.randint(0,out_shape-1)\n",
    "    idxs = random.choices(list(range(out_shape)),k=4)\n",
    "    con_c = sample_con_cor(z_Ls, *idxs)\n",
    "    K = (z_Ls[:,i] * z_Ls[:,i]).mean() - z_Ls[:,i].mean()*z_Ls[:,i].mean()\n",
    "    count+= abs(con_c)/(K*K)\n",
    "    print(abs(con_c), K*K)\n",
    "    con_cs += abs(con_c)\n",
    "    Ks += K*K\n",
    "count/samples"
   ]
  },
  {
   "cell_type": "code",
   "execution_count": 88,
   "metadata": {},
   "outputs": [
    {
     "name": "stdout",
     "output_type": "stream",
     "text": [
      "tensor(nan, device='cuda:0') tensor(6.8775e+28, device='cuda:0') tensor(5.3220e+29, device='cuda:0') tensor(1.0967e+29, device='cuda:0') tensor(2.9983e+29, device='cuda:0') tensor(6.8775e+28, device='cuda:0') tensor(5.3220e+29, device='cuda:0')\n",
      "tensor(inf, device='cuda:0') tensor(inf, device='cuda:0') tensor(inf, device='cuda:0')\n"
     ]
    },
    {
     "data": {
      "text/plain": [
       "tensor(nan, device='cuda:0')"
      ]
     },
     "execution_count": 88,
     "metadata": {},
     "output_type": "execute_result"
    }
   ],
   "source": [
    "i=random.randint(0,out_shape-1)\n",
    "idxs = random.choices(list(range(out_shape)),k=4)\n",
    "con_c = sample_con_cor(z_Ls, *idxs)\n",
    "K = (z_Ls[:,i] * z_Ls[:,i]).mean() - z_Ls[:,i].mean()*z_Ls[:,i].mean()\n",
    "count= abs(con_c)/(K*K)\n",
    "count"
   ]
  },
  {
   "cell_type": "code",
   "execution_count": null,
   "metadata": {},
   "outputs": [],
   "source": []
  }
 ],
 "metadata": {
  "colab": {
   "authorship_tag": "ABX9TyP7WBwVt8YNn8KtlWXqXSAA",
   "collapsed_sections": [],
   "name": "chapter-3.ipynb",
   "provenance": []
  },
  "kernelspec": {
   "display_name": "Python 3 (ipykernel)",
   "language": "python",
   "name": "python3"
  },
  "language_info": {
   "codemirror_mode": {
    "name": "ipython",
    "version": 3
   },
   "file_extension": ".py",
   "mimetype": "text/x-python",
   "name": "python",
   "nbconvert_exporter": "python",
   "pygments_lexer": "ipython3",
   "version": "3.10.2"
  }
 },
 "nbformat": 4,
 "nbformat_minor": 4
}
